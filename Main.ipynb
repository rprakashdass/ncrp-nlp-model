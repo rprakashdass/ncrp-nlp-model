{
 "cells": [
  {
   "metadata": {},
   "cell_type": "markdown",
   "source": "### NLP Model for NCRP \n",
   "id": "93d50371bd9fedde"
  },
  {
   "metadata": {},
   "cell_type": "markdown",
   "source": "Basic data exploration",
   "id": "e21ca8189124a720"
  },
  {
   "cell_type": "code",
   "id": "initial_id",
   "metadata": {
    "collapsed": true,
    "ExecuteTime": {
     "end_time": "2024-11-14T09:25:17.513592Z",
     "start_time": "2024-11-14T09:25:16.148415Z"
    }
   },
   "source": [
    "import pandas as pd\n",
    "\n",
    "df = pd.read_csv('train.csv')\n",
    "\n",
    "df.head()"
   ],
   "outputs": [
    {
     "data": {
      "text/plain": [
       "                                category                       sub_category  \\\n",
       "0  Online and Social Media Related Crime  Cyber Bullying  Stalking  Sexting   \n",
       "1                 Online Financial Fraud                  Fraud CallVishing   \n",
       "2               Online Gambling  Betting           Online Gambling  Betting   \n",
       "3  Online and Social Media Related Crime                   Online Job Fraud   \n",
       "4                 Online Financial Fraud                  Fraud CallVishing   \n",
       "\n",
       "                                  crimeaditionalinfo  \n",
       "0  I had continue received random calls and abusi...  \n",
       "1  The above fraudster is continuously messaging ...  \n",
       "2  He is acting like a police and demanding for m...  \n",
       "3  In apna Job I have applied for job interview f...  \n",
       "4  I received a call from lady stating that she w...  "
      ],
      "text/html": [
       "<div>\n",
       "<style scoped>\n",
       "    .dataframe tbody tr th:only-of-type {\n",
       "        vertical-align: middle;\n",
       "    }\n",
       "\n",
       "    .dataframe tbody tr th {\n",
       "        vertical-align: top;\n",
       "    }\n",
       "\n",
       "    .dataframe thead th {\n",
       "        text-align: right;\n",
       "    }\n",
       "</style>\n",
       "<table border=\"1\" class=\"dataframe\">\n",
       "  <thead>\n",
       "    <tr style=\"text-align: right;\">\n",
       "      <th></th>\n",
       "      <th>category</th>\n",
       "      <th>sub_category</th>\n",
       "      <th>crimeaditionalinfo</th>\n",
       "    </tr>\n",
       "  </thead>\n",
       "  <tbody>\n",
       "    <tr>\n",
       "      <th>0</th>\n",
       "      <td>Online and Social Media Related Crime</td>\n",
       "      <td>Cyber Bullying  Stalking  Sexting</td>\n",
       "      <td>I had continue received random calls and abusi...</td>\n",
       "    </tr>\n",
       "    <tr>\n",
       "      <th>1</th>\n",
       "      <td>Online Financial Fraud</td>\n",
       "      <td>Fraud CallVishing</td>\n",
       "      <td>The above fraudster is continuously messaging ...</td>\n",
       "    </tr>\n",
       "    <tr>\n",
       "      <th>2</th>\n",
       "      <td>Online Gambling  Betting</td>\n",
       "      <td>Online Gambling  Betting</td>\n",
       "      <td>He is acting like a police and demanding for m...</td>\n",
       "    </tr>\n",
       "    <tr>\n",
       "      <th>3</th>\n",
       "      <td>Online and Social Media Related Crime</td>\n",
       "      <td>Online Job Fraud</td>\n",
       "      <td>In apna Job I have applied for job interview f...</td>\n",
       "    </tr>\n",
       "    <tr>\n",
       "      <th>4</th>\n",
       "      <td>Online Financial Fraud</td>\n",
       "      <td>Fraud CallVishing</td>\n",
       "      <td>I received a call from lady stating that she w...</td>\n",
       "    </tr>\n",
       "  </tbody>\n",
       "</table>\n",
       "</div>"
      ]
     },
     "execution_count": 41,
     "metadata": {},
     "output_type": "execute_result"
    }
   ],
   "execution_count": 41
  },
  {
   "metadata": {
    "ExecuteTime": {
     "end_time": "2024-11-14T09:25:17.626039Z",
     "start_time": "2024-11-14T09:25:17.582992Z"
    }
   },
   "cell_type": "code",
   "source": "len(df), len(df['category'].unique()), len(df['sub_category'].unique())",
   "id": "28ceabae0efc2850",
   "outputs": [
    {
     "data": {
      "text/plain": [
       "(93686, 15, 36)"
      ]
     },
     "execution_count": 42,
     "metadata": {},
     "output_type": "execute_result"
    }
   ],
   "execution_count": 42
  },
  {
   "metadata": {
    "ExecuteTime": {
     "end_time": "2024-11-14T09:25:17.858127Z",
     "start_time": "2024-11-14T09:25:17.736766Z"
    }
   },
   "cell_type": "code",
   "source": [
    "empty_cells_count = df['category'].replace(r\"^\\s*$\", pd.NA, regex=True).isnull().sum()\n",
    "print(f\"Total number of empty cells in 'category': {empty_cells_count}\")"
   ],
   "id": "a368d5fa8f436842",
   "outputs": [
    {
     "name": "stdout",
     "output_type": "stream",
     "text": [
      "Total number of empty cells in 'category': 0\n"
     ]
    }
   ],
   "execution_count": 43
  },
  {
   "metadata": {
    "ExecuteTime": {
     "end_time": "2024-11-14T09:25:18.098337Z",
     "start_time": "2024-11-14T09:25:17.975553Z"
    }
   },
   "cell_type": "code",
   "source": [
    "empty_cells_count = df['sub_category'].replace(r\"^\\s*$\", pd.NA, regex=True).isnull().sum()\n",
    "print(f\"Total number of empty cells in 'sub_category': {empty_cells_count}\")"
   ],
   "id": "127c983bbdd286fe",
   "outputs": [
    {
     "name": "stdout",
     "output_type": "stream",
     "text": [
      "Total number of empty cells in 'sub_category': 6591\n"
     ]
    }
   ],
   "execution_count": 44
  },
  {
   "metadata": {
    "ExecuteTime": {
     "end_time": "2024-11-14T09:25:18.248450Z",
     "start_time": "2024-11-14T09:25:18.225282Z"
    }
   },
   "cell_type": "code",
   "source": "df['category'].value_counts()",
   "id": "80a99b26ef70cf49",
   "outputs": [
    {
     "data": {
      "text/plain": [
       "category\n",
       "Online Financial Fraud                                  57434\n",
       "Online and Social Media Related Crime                   12140\n",
       "Any Other Cyber Crime                                   10878\n",
       "Cyber Attack/ Dependent Crimes                           3608\n",
       "RapeGang Rape RGRSexually Abusive Content                2822\n",
       "Sexually Obscene material                                1838\n",
       "Hacking  Damage to computercomputer system etc           1710\n",
       "Sexually Explicit Act                                    1552\n",
       "Cryptocurrency Crime                                      480\n",
       "Online Gambling  Betting                                  444\n",
       "Child Pornography CPChild Sexual Abuse Material CSAM      379\n",
       "Online Cyber Trafficking                                  183\n",
       "Cyber Terrorism                                           161\n",
       "Ransomware                                                 56\n",
       "Report Unlawful Content                                     1\n",
       "Name: count, dtype: int64"
      ]
     },
     "execution_count": 45,
     "metadata": {},
     "output_type": "execute_result"
    }
   ],
   "execution_count": 45
  },
  {
   "metadata": {
    "ExecuteTime": {
     "end_time": "2024-11-14T09:25:18.353833Z",
     "start_time": "2024-11-14T09:25:18.328275Z"
    }
   },
   "cell_type": "code",
   "source": "df['sub_category'].value_counts()",
   "id": "96dc99bd8dba86dd",
   "outputs": [
    {
     "data": {
      "text/plain": [
       "sub_category\n",
       "UPI Related Frauds                                                      26856\n",
       "Other                                                                   10878\n",
       "DebitCredit Card FraudSim Swap Fraud                                    10805\n",
       "Internet Banking Related Fraud                                           8872\n",
       "Fraud CallVishing                                                        5803\n",
       "Cyber Bullying  Stalking  Sexting                                        4089\n",
       "EWallet Related Fraud                                                    4047\n",
       "FakeImpersonating Profile                                                2299\n",
       "Profile Hacking Identity Theft                                           2073\n",
       "Cheating by Impersonation                                                1988\n",
       "Unauthorised AccessData Breach                                           1114\n",
       "Online Job Fraud                                                          912\n",
       "DematDepository Fraud                                                     761\n",
       "Tampering with computer source documents                                  567\n",
       "Hacking/Defacement                                                        540\n",
       "Ransomware Attack                                                         534\n",
       "Malware Attack                                                            521\n",
       "SQL Injection                                                             508\n",
       "Denial of Service (DoS)/Distributed Denial of Service (DDOS) attacks      504\n",
       "Data Breach/Theft                                                         484\n",
       "Cryptocurrency Fraud                                                      480\n",
       "Online Gambling  Betting                                                  444\n",
       "Provocative Speech for unlawful acts                                      417\n",
       "Email Hacking                                                             349\n",
       "Business Email CompromiseEmail Takeover                                   290\n",
       "Online Trafficking                                                        183\n",
       "Cyber Terrorism                                                           161\n",
       "EMail Phishing                                                            157\n",
       "Online Matrimonial Fraud                                                  132\n",
       "Damage to computer computer systems etc                                   108\n",
       "Website DefacementHacking                                                  89\n",
       "Ransomware                                                                 56\n",
       "Impersonating Email                                                        44\n",
       "Intimidating Email                                                         29\n",
       "Against Interest of sovereignty or integrity of India                       1\n",
       "Name: count, dtype: int64"
      ]
     },
     "execution_count": 46,
     "metadata": {},
     "output_type": "execute_result"
    }
   ],
   "execution_count": 46
  },
  {
   "metadata": {
    "ExecuteTime": {
     "end_time": "2024-11-14T09:25:18.544073Z",
     "start_time": "2024-11-14T09:25:18.486025Z"
    }
   },
   "cell_type": "code",
   "source": [
    "category_dict = df.groupby('category')['sub_category'].unique().apply(list).to_dict()\n",
    "category_dict"
   ],
   "id": "c16440e8b8d8b968",
   "outputs": [
    {
     "data": {
      "text/plain": [
       "{'Any Other Cyber Crime': ['Other'],\n",
       " 'Child Pornography CPChild Sexual Abuse Material CSAM': [nan],\n",
       " 'Cryptocurrency Crime': ['Cryptocurrency Fraud'],\n",
       " 'Cyber Attack/ Dependent Crimes': ['Data Breach/Theft',\n",
       "  'Denial of Service (DoS)/Distributed Denial of Service (DDOS) attacks',\n",
       "  'Malware Attack',\n",
       "  'Hacking/Defacement',\n",
       "  'SQL Injection',\n",
       "  'Ransomware Attack',\n",
       "  'Tampering with computer source documents'],\n",
       " 'Cyber Terrorism': ['Cyber Terrorism'],\n",
       " 'Hacking  Damage to computercomputer system etc': ['Email Hacking',\n",
       "  'Unauthorised AccessData Breach',\n",
       "  'Website DefacementHacking',\n",
       "  'Damage to computer computer systems etc',\n",
       "  'Tampering with computer source documents'],\n",
       " 'Online Cyber Trafficking': ['Online Trafficking'],\n",
       " 'Online Financial Fraud': ['Fraud CallVishing',\n",
       "  'UPI Related Frauds',\n",
       "  'Internet Banking Related Fraud',\n",
       "  'DebitCredit Card FraudSim Swap Fraud',\n",
       "  'EWallet Related Fraud',\n",
       "  'Business Email CompromiseEmail Takeover',\n",
       "  'DematDepository Fraud'],\n",
       " 'Online Gambling  Betting': ['Online Gambling  Betting'],\n",
       " 'Online and Social Media Related Crime': ['Cyber Bullying  Stalking  Sexting',\n",
       "  'Online Job Fraud',\n",
       "  'Profile Hacking Identity Theft',\n",
       "  'Cheating by Impersonation',\n",
       "  'FakeImpersonating Profile',\n",
       "  'Provocative Speech for unlawful acts',\n",
       "  'Online Matrimonial Fraud',\n",
       "  'Impersonating Email',\n",
       "  'EMail Phishing',\n",
       "  'Intimidating Email'],\n",
       " 'Ransomware': ['Ransomware'],\n",
       " 'RapeGang Rape RGRSexually Abusive Content': [nan],\n",
       " 'Report Unlawful Content': ['Against Interest of sovereignty or integrity of India'],\n",
       " 'Sexually Explicit Act': [nan],\n",
       " 'Sexually Obscene material': [nan]}"
      ]
     },
     "execution_count": 47,
     "metadata": {},
     "output_type": "execute_result"
    }
   ],
   "execution_count": 47
  },
  {
   "metadata": {
    "ExecuteTime": {
     "end_time": "2024-11-14T09:26:09.264705Z",
     "start_time": "2024-11-14T09:26:09.221082Z"
    }
   },
   "cell_type": "code",
   "source": [
    "df['category'] = df['category'].fillna('nan')\n",
    "df['sub_category'] = df['sub_category'].fillna('nan')\n",
    "df['crimeaditionalinfo'] = df['crimeaditionalinfo'].fillna('nan')"
   ],
   "id": "3d54530e5d0d2d3e",
   "outputs": [],
   "execution_count": 51
  },
  {
   "metadata": {
    "ExecuteTime": {
     "end_time": "2024-11-14T09:26:10.702868Z",
     "start_time": "2024-11-14T09:26:10.683383Z"
    }
   },
   "cell_type": "code",
   "source": "df.isnull().sum()",
   "id": "7e6944885ce8d84b",
   "outputs": [
    {
     "data": {
      "text/plain": [
       "category              0\n",
       "sub_category          0\n",
       "crimeaditionalinfo    0\n",
       "dtype: int64"
      ]
     },
     "execution_count": 52,
     "metadata": {},
     "output_type": "execute_result"
    }
   ],
   "execution_count": 52
  },
  {
   "metadata": {},
   "cell_type": "code",
   "outputs": [],
   "execution_count": null,
   "source": "",
   "id": "9cee851785191ca2"
  }
 ],
 "metadata": {
  "kernelspec": {
   "display_name": "Python 3",
   "language": "python",
   "name": "python3"
  },
  "language_info": {
   "codemirror_mode": {
    "name": "ipython",
    "version": 2
   },
   "file_extension": ".py",
   "mimetype": "text/x-python",
   "name": "python",
   "nbconvert_exporter": "python",
   "pygments_lexer": "ipython2",
   "version": "2.7.6"
  }
 },
 "nbformat": 4,
 "nbformat_minor": 5
}
