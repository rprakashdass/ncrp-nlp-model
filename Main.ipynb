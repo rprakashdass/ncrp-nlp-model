{
 "cells": [
  {
   "metadata": {},
   "cell_type": "markdown",
   "source": "### NLP Model for NCRP \n",
   "id": "93d50371bd9fedde"
  },
  {
   "metadata": {},
   "cell_type": "markdown",
   "source": "Basic data exploration",
   "id": "e21ca8189124a720"
  },
  {
   "cell_type": "code",
   "id": "initial_id",
   "metadata": {
    "collapsed": true,
    "ExecuteTime": {
     "end_time": "2024-11-14T10:45:35.697580Z",
     "start_time": "2024-11-14T10:45:34.643251Z"
    }
   },
   "source": [
    "import pandas as pd\n",
    "\n",
    "df = pd.read_csv('train.csv')\n",
    "\n",
    "df.head()"
   ],
   "outputs": [
    {
     "data": {
      "text/plain": [
       "                                category                       sub_category  \\\n",
       "0  Online and Social Media Related Crime  Cyber Bullying  Stalking  Sexting   \n",
       "1                 Online Financial Fraud                  Fraud CallVishing   \n",
       "2               Online Gambling  Betting           Online Gambling  Betting   \n",
       "3  Online and Social Media Related Crime                   Online Job Fraud   \n",
       "4                 Online Financial Fraud                  Fraud CallVishing   \n",
       "\n",
       "                                  crimeaditionalinfo  \n",
       "0  I had continue received random calls and abusi...  \n",
       "1  The above fraudster is continuously messaging ...  \n",
       "2  He is acting like a police and demanding for m...  \n",
       "3  In apna Job I have applied for job interview f...  \n",
       "4  I received a call from lady stating that she w...  "
      ],
      "text/html": [
       "<div>\n",
       "<style scoped>\n",
       "    .dataframe tbody tr th:only-of-type {\n",
       "        vertical-align: middle;\n",
       "    }\n",
       "\n",
       "    .dataframe tbody tr th {\n",
       "        vertical-align: top;\n",
       "    }\n",
       "\n",
       "    .dataframe thead th {\n",
       "        text-align: right;\n",
       "    }\n",
       "</style>\n",
       "<table border=\"1\" class=\"dataframe\">\n",
       "  <thead>\n",
       "    <tr style=\"text-align: right;\">\n",
       "      <th></th>\n",
       "      <th>category</th>\n",
       "      <th>sub_category</th>\n",
       "      <th>crimeaditionalinfo</th>\n",
       "    </tr>\n",
       "  </thead>\n",
       "  <tbody>\n",
       "    <tr>\n",
       "      <th>0</th>\n",
       "      <td>Online and Social Media Related Crime</td>\n",
       "      <td>Cyber Bullying  Stalking  Sexting</td>\n",
       "      <td>I had continue received random calls and abusi...</td>\n",
       "    </tr>\n",
       "    <tr>\n",
       "      <th>1</th>\n",
       "      <td>Online Financial Fraud</td>\n",
       "      <td>Fraud CallVishing</td>\n",
       "      <td>The above fraudster is continuously messaging ...</td>\n",
       "    </tr>\n",
       "    <tr>\n",
       "      <th>2</th>\n",
       "      <td>Online Gambling  Betting</td>\n",
       "      <td>Online Gambling  Betting</td>\n",
       "      <td>He is acting like a police and demanding for m...</td>\n",
       "    </tr>\n",
       "    <tr>\n",
       "      <th>3</th>\n",
       "      <td>Online and Social Media Related Crime</td>\n",
       "      <td>Online Job Fraud</td>\n",
       "      <td>In apna Job I have applied for job interview f...</td>\n",
       "    </tr>\n",
       "    <tr>\n",
       "      <th>4</th>\n",
       "      <td>Online Financial Fraud</td>\n",
       "      <td>Fraud CallVishing</td>\n",
       "      <td>I received a call from lady stating that she w...</td>\n",
       "    </tr>\n",
       "  </tbody>\n",
       "</table>\n",
       "</div>"
      ]
     },
     "execution_count": 1,
     "metadata": {},
     "output_type": "execute_result"
    }
   ],
   "execution_count": 1
  },
  {
   "metadata": {
    "ExecuteTime": {
     "end_time": "2024-11-14T10:45:35.760138Z",
     "start_time": "2024-11-14T10:45:35.746080Z"
    }
   },
   "cell_type": "code",
   "source": "len(df), len(df['category'].unique()), len(df['sub_category'].unique())",
   "id": "28ceabae0efc2850",
   "outputs": [
    {
     "data": {
      "text/plain": [
       "(93686, 15, 36)"
      ]
     },
     "execution_count": 2,
     "metadata": {},
     "output_type": "execute_result"
    }
   ],
   "execution_count": 2
  },
  {
   "metadata": {
    "ExecuteTime": {
     "end_time": "2024-11-14T10:45:35.936213Z",
     "start_time": "2024-11-14T10:45:35.899759Z"
    }
   },
   "cell_type": "code",
   "source": [
    "empty_cells_count = df['category'].replace(r\"^\\s*$\", pd.NA, regex=True).isnull().sum()\n",
    "print(f\"Total number of empty cells in 'category': {empty_cells_count}\")"
   ],
   "id": "a368d5fa8f436842",
   "outputs": [
    {
     "name": "stdout",
     "output_type": "stream",
     "text": [
      "Total number of empty cells in 'category': 0\n"
     ]
    }
   ],
   "execution_count": 3
  },
  {
   "metadata": {
    "ExecuteTime": {
     "end_time": "2024-11-14T10:45:36.070148Z",
     "start_time": "2024-11-14T10:45:36.033396Z"
    }
   },
   "cell_type": "code",
   "source": [
    "empty_cells_count = df['sub_category'].replace(r\"^\\s*$\", pd.NA, regex=True).isnull().sum()\n",
    "print(f\"Total number of empty cells in 'sub_category': {empty_cells_count}\")"
   ],
   "id": "127c983bbdd286fe",
   "outputs": [
    {
     "name": "stdout",
     "output_type": "stream",
     "text": [
      "Total number of empty cells in 'sub_category': 6591\n"
     ]
    }
   ],
   "execution_count": 4
  },
  {
   "metadata": {
    "ExecuteTime": {
     "end_time": "2024-11-14T10:45:36.239257Z",
     "start_time": "2024-11-14T10:45:36.226505Z"
    }
   },
   "cell_type": "code",
   "source": "df['category'].value_counts()",
   "id": "80a99b26ef70cf49",
   "outputs": [
    {
     "data": {
      "text/plain": [
       "category\n",
       "Online Financial Fraud                                  57434\n",
       "Online and Social Media Related Crime                   12140\n",
       "Any Other Cyber Crime                                   10878\n",
       "Cyber Attack/ Dependent Crimes                           3608\n",
       "RapeGang Rape RGRSexually Abusive Content                2822\n",
       "Sexually Obscene material                                1838\n",
       "Hacking  Damage to computercomputer system etc           1710\n",
       "Sexually Explicit Act                                    1552\n",
       "Cryptocurrency Crime                                      480\n",
       "Online Gambling  Betting                                  444\n",
       "Child Pornography CPChild Sexual Abuse Material CSAM      379\n",
       "Online Cyber Trafficking                                  183\n",
       "Cyber Terrorism                                           161\n",
       "Ransomware                                                 56\n",
       "Report Unlawful Content                                     1\n",
       "Name: count, dtype: int64"
      ]
     },
     "execution_count": 5,
     "metadata": {},
     "output_type": "execute_result"
    }
   ],
   "execution_count": 5
  },
  {
   "metadata": {
    "ExecuteTime": {
     "end_time": "2024-11-14T10:45:36.272713Z",
     "start_time": "2024-11-14T10:45:36.261653Z"
    }
   },
   "cell_type": "code",
   "source": "df['sub_category'].value_counts()",
   "id": "96dc99bd8dba86dd",
   "outputs": [
    {
     "data": {
      "text/plain": [
       "sub_category\n",
       "UPI Related Frauds                                                      26856\n",
       "Other                                                                   10878\n",
       "DebitCredit Card FraudSim Swap Fraud                                    10805\n",
       "Internet Banking Related Fraud                                           8872\n",
       "Fraud CallVishing                                                        5803\n",
       "Cyber Bullying  Stalking  Sexting                                        4089\n",
       "EWallet Related Fraud                                                    4047\n",
       "FakeImpersonating Profile                                                2299\n",
       "Profile Hacking Identity Theft                                           2073\n",
       "Cheating by Impersonation                                                1988\n",
       "Unauthorised AccessData Breach                                           1114\n",
       "Online Job Fraud                                                          912\n",
       "DematDepository Fraud                                                     761\n",
       "Tampering with computer source documents                                  567\n",
       "Hacking/Defacement                                                        540\n",
       "Ransomware Attack                                                         534\n",
       "Malware Attack                                                            521\n",
       "SQL Injection                                                             508\n",
       "Denial of Service (DoS)/Distributed Denial of Service (DDOS) attacks      504\n",
       "Data Breach/Theft                                                         484\n",
       "Cryptocurrency Fraud                                                      480\n",
       "Online Gambling  Betting                                                  444\n",
       "Provocative Speech for unlawful acts                                      417\n",
       "Email Hacking                                                             349\n",
       "Business Email CompromiseEmail Takeover                                   290\n",
       "Online Trafficking                                                        183\n",
       "Cyber Terrorism                                                           161\n",
       "EMail Phishing                                                            157\n",
       "Online Matrimonial Fraud                                                  132\n",
       "Damage to computer computer systems etc                                   108\n",
       "Website DefacementHacking                                                  89\n",
       "Ransomware                                                                 56\n",
       "Impersonating Email                                                        44\n",
       "Intimidating Email                                                         29\n",
       "Against Interest of sovereignty or integrity of India                       1\n",
       "Name: count, dtype: int64"
      ]
     },
     "execution_count": 6,
     "metadata": {},
     "output_type": "execute_result"
    }
   ],
   "execution_count": 6
  },
  {
   "metadata": {
    "ExecuteTime": {
     "end_time": "2024-11-14T10:45:36.413120Z",
     "start_time": "2024-11-14T10:45:36.388536Z"
    }
   },
   "cell_type": "code",
   "source": [
    "category_dict = df.groupby('category')['sub_category'].unique().apply(list).to_dict()\n",
    "category_dict"
   ],
   "id": "c16440e8b8d8b968",
   "outputs": [
    {
     "data": {
      "text/plain": [
       "{'Any Other Cyber Crime': ['Other'],\n",
       " 'Child Pornography CPChild Sexual Abuse Material CSAM': [nan],\n",
       " 'Cryptocurrency Crime': ['Cryptocurrency Fraud'],\n",
       " 'Cyber Attack/ Dependent Crimes': ['Data Breach/Theft',\n",
       "  'Denial of Service (DoS)/Distributed Denial of Service (DDOS) attacks',\n",
       "  'Malware Attack',\n",
       "  'Hacking/Defacement',\n",
       "  'SQL Injection',\n",
       "  'Ransomware Attack',\n",
       "  'Tampering with computer source documents'],\n",
       " 'Cyber Terrorism': ['Cyber Terrorism'],\n",
       " 'Hacking  Damage to computercomputer system etc': ['Email Hacking',\n",
       "  'Unauthorised AccessData Breach',\n",
       "  'Website DefacementHacking',\n",
       "  'Damage to computer computer systems etc',\n",
       "  'Tampering with computer source documents'],\n",
       " 'Online Cyber Trafficking': ['Online Trafficking'],\n",
       " 'Online Financial Fraud': ['Fraud CallVishing',\n",
       "  'UPI Related Frauds',\n",
       "  'Internet Banking Related Fraud',\n",
       "  'DebitCredit Card FraudSim Swap Fraud',\n",
       "  'EWallet Related Fraud',\n",
       "  'Business Email CompromiseEmail Takeover',\n",
       "  'DematDepository Fraud'],\n",
       " 'Online Gambling  Betting': ['Online Gambling  Betting'],\n",
       " 'Online and Social Media Related Crime': ['Cyber Bullying  Stalking  Sexting',\n",
       "  'Online Job Fraud',\n",
       "  'Profile Hacking Identity Theft',\n",
       "  'Cheating by Impersonation',\n",
       "  'FakeImpersonating Profile',\n",
       "  'Provocative Speech for unlawful acts',\n",
       "  'Online Matrimonial Fraud',\n",
       "  'Impersonating Email',\n",
       "  'EMail Phishing',\n",
       "  'Intimidating Email'],\n",
       " 'Ransomware': ['Ransomware'],\n",
       " 'RapeGang Rape RGRSexually Abusive Content': [nan],\n",
       " 'Report Unlawful Content': ['Against Interest of sovereignty or integrity of India'],\n",
       " 'Sexually Explicit Act': [nan],\n",
       " 'Sexually Obscene material': [nan]}"
      ]
     },
     "execution_count": 7,
     "metadata": {},
     "output_type": "execute_result"
    }
   ],
   "execution_count": 7
  },
  {
   "metadata": {},
   "cell_type": "markdown",
   "source": "Data cleaning",
   "id": "f0a3c58e46d6e713"
  },
  {
   "metadata": {
    "ExecuteTime": {
     "end_time": "2024-11-14T10:45:36.546058Z",
     "start_time": "2024-11-14T10:45:36.519662Z"
    }
   },
   "cell_type": "code",
   "source": [
    "df['category'] = df['category'].fillna('nan')\n",
    "df['sub_category'] = df['sub_category'].fillna('nan')\n",
    "df['crimeaditionalinfo'] = df['crimeaditionalinfo'].fillna('nan')"
   ],
   "id": "3d54530e5d0d2d3e",
   "outputs": [],
   "execution_count": 8
  },
  {
   "metadata": {
    "ExecuteTime": {
     "end_time": "2024-11-14T10:45:36.620047Z",
     "start_time": "2024-11-14T10:45:36.604751Z"
    }
   },
   "cell_type": "code",
   "source": "df.isnull().sum()",
   "id": "7e6944885ce8d84b",
   "outputs": [
    {
     "data": {
      "text/plain": [
       "category              0\n",
       "sub_category          0\n",
       "crimeaditionalinfo    0\n",
       "dtype: int64"
      ]
     },
     "execution_count": 9,
     "metadata": {},
     "output_type": "execute_result"
    }
   ],
   "execution_count": 9
  },
  {
   "metadata": {
    "ExecuteTime": {
     "end_time": "2024-11-14T10:45:44.206760Z",
     "start_time": "2024-11-14T10:45:36.695751Z"
    }
   },
   "cell_type": "code",
   "source": [
    "import re\n",
    "import nltk\n",
    "nltk.download('stopwords')\n",
    "from nltk.corpus import stopwords\n",
    "\n",
    "# List of stopwords\n",
    "stop_words = set(stopwords.words('english'))\n",
    "\n",
    "def clean_text(text):\n",
    "    # 1. Lowercase\n",
    "    text = text.lower()\n",
    "\n",
    "    # 2. Remove HTML tags\n",
    "    text = re.sub(r'<.*?>', '', text)\n",
    "\n",
    "    # 3. Remove punctuation\n",
    "    text = re.sub(r'[^\\w\\s]', '', text)\n",
    "\n",
    "    # 5. Remove extra spaces\n",
    "    text = re.sub(r'\\s+', ' ', text).strip()\n",
    "\n",
    "    return text\n",
    "\n",
    "\n",
    "df['crimeaditionalinfo'] = df['crimeaditionalinfo'].apply(clean_text)\n"
   ],
   "id": "9cee851785191ca2",
   "outputs": [
    {
     "name": "stderr",
     "output_type": "stream",
     "text": [
      "[nltk_data] Downloading package stopwords to\n",
      "[nltk_data]     C:\\Users\\vigne\\AppData\\Roaming\\nltk_data...\n",
      "[nltk_data]   Package stopwords is already up-to-date!\n"
     ]
    }
   ],
   "execution_count": 10
  },
  {
   "metadata": {},
   "cell_type": "code",
   "source": [
    "from transformers import BertTokenizer\n",
    "\n",
    "# Load the mBERT tokenizer\n",
    "tokenizer = BertTokenizer.from_pretrained('bert-base-multilingual-cased')\n",
    "\n",
    "# Tokenize the text and add special tokens\n",
    "df['tokens'] = df['crimeaditionalinfo'].apply(lambda x: tokenizer.tokenize(x))\n",
    "df['tokens'] = df['tokens'].apply(lambda x: ['[CLS]'] + x + ['[SEP]'])\n",
    "\n",
    "# Convert tokens to input IDs\n",
    "df['input_ids'] = df['tokens'].apply(lambda x: tokenizer.convert_tokens_to_ids(x))\n",
    "\n",
    "max_length = 284  # 95th percentile length\n",
    "\n",
    "# Padding input_ids: truncate longer sequences and pad shorter ones\n",
    "df['padded_input_ids'] = df['input_ids'].apply(lambda x: x[:max_length] + [0] * (max_length - len(x)) if len(x) < max_length else x[:max_length])\n",
    "\n",
    "# Create attention masks: 1 for real tokens and 0 for padding\n",
    "df['attention_mask'] = df['padded_input_ids'].apply(lambda x: [1 if i != 0 else 0 for i in x])"
   ],
   "id": "b5646b77ed267b0c",
   "outputs": [],
   "execution_count": null
  },
  {
   "metadata": {
    "ExecuteTime": {
     "end_time": "2024-11-14T10:53:52.152619Z",
     "start_time": "2024-11-14T10:53:52.142347Z"
    }
   },
   "cell_type": "code",
   "source": [
    "# Check padded input IDs and attention mask\n",
    "df[['padded_input_ids', 'attention_mask']].head()\n",
    "\n",
    "len(df['padded_input_ids'][0]), len(df['attention_mask'][0])"
   ],
   "id": "e65f92ee5e7246af",
   "outputs": [
    {
     "data": {
      "text/plain": [
       "(284, 284)"
      ]
     },
     "execution_count": 17,
     "metadata": {},
     "output_type": "execute_result"
    }
   ],
   "execution_count": 17
  },
  {
   "metadata": {
    "ExecuteTime": {
     "end_time": "2024-11-14T10:54:39.463515Z",
     "start_time": "2024-11-14T10:54:39.437879Z"
    }
   },
   "cell_type": "code",
   "source": [
    "from sklearn.preprocessing import LabelEncoder\n",
    "# Encoding categories and sub-categories\n",
    "category_encoder = LabelEncoder()\n",
    "sub_category_encoder = LabelEncoder()\n",
    "\n",
    "df['category_label'] = category_encoder.fit_transform(df['category'])\n",
    "df['sub_category_label'] = sub_category_encoder.fit_transform(df['sub_category'])"
   ],
   "id": "48ae084d19ee5623",
   "outputs": [],
   "execution_count": 18
  }
 ],
 "metadata": {
  "kernelspec": {
   "display_name": "Python 3",
   "language": "python",
   "name": "python3"
  },
  "language_info": {
   "codemirror_mode": {
    "name": "ipython",
    "version": 2
   },
   "file_extension": ".py",
   "mimetype": "text/x-python",
   "name": "python",
   "nbconvert_exporter": "python",
   "pygments_lexer": "ipython2",
   "version": "2.7.6"
  }
 },
 "nbformat": 4,
 "nbformat_minor": 5
}
