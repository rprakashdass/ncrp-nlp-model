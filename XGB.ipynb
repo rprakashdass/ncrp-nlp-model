{
 "cells": [
  {
   "cell_type": "code",
   "id": "initial_id",
   "metadata": {
    "collapsed": true,
    "ExecuteTime": {
     "end_time": "2024-11-22T14:54:19.787073Z",
     "start_time": "2024-11-22T14:44:26.897037Z"
    }
   },
   "source": [
    "import pandas as pd\n",
    "from sklearn.model_selection import train_test_split\n",
    "from sklearn.feature_extraction.text import TfidfVectorizer\n",
    "from sklearn.preprocessing import LabelEncoder\n",
    "from xgboost import XGBClassifier\n",
    "from sklearn.metrics import classification_report\n",
    "from tqdm import tqdm\n",
    "\n",
    "# Step 1: Load the Dataset\n",
    "data = pd.read_csv('cleaned_train.csv')\n",
    "\n",
    "# Step 2: Preprocess the Data\n",
    "data['text'] = data['text'].astype(str).fillna(\"\")  # Ensure text data is clean\n",
    "\n",
    "# Encode labels\n",
    "label_encoder = LabelEncoder()\n",
    "data['category_encoded'] = label_encoder.fit_transform(data['category'])\n",
    "\n",
    "# Step 3: Split the Data\n",
    "X = data['text']  # Input text\n",
    "y = data['category_encoded']  # Encoded labels\n",
    "X_train, X_test, y_train, y_test = train_test_split(X, y, test_size=0.2, random_state=42)\n",
    "\n",
    "# Step 4: Convert Text to Features Using TF-IDF\n",
    "tfidf_vectorizer = TfidfVectorizer(max_features=10000, ngram_range=(1, 2), stop_words='english')\n",
    "X_train_tfidf = tfidf_vectorizer.fit_transform(X_train)\n",
    "X_test_tfidf = tfidf_vectorizer.transform(X_test)\n",
    "\n",
    "# Step 5: Train the XGBoost Model with Progress Bar\n",
    "xgb_model = XGBClassifier(random_state=42, eval_metric='mlogloss', objective='multi:softmax', num_class=len(label_encoder.classes_))\n",
    "\n",
    "# Wrap the training process with tqdm for the progress bar\n",
    "with tqdm(total=100, desc=\"Training Progress\", unit=\"step\") as pbar:\n",
    "    for _ in range(1):  # Dummy loop to simulate steps; XGBoost handles training internally\n",
    "        xgb_model.fit(\n",
    "            X_train_tfidf,\n",
    "            y_train,\n",
    "            eval_set=[(X_test_tfidf, y_test)],\n",
    "            verbose=False\n",
    "        )\n",
    "        pbar.update(100)  # Update progress bar to 100% since training is one complete step\n",
    "\n",
    "# Step 6: Predict on the Test Data\n",
    "y_pred = xgb_model.predict(X_test_tfidf)\n",
    "unique_classes = sorted(set(y_test))  # Ensure all classes in y_test are covered\n",
    "class_names = label_encoder.inverse_transform(unique_classes)\n",
    "# Step 7: Generate the Classification Report\n",
    "report = classification_report(y_test, y_pred,\n",
    "                               labels=unique_classes,\n",
    "                               target_names=class_names,\n",
    "                               zero_division=0)\n",
    "print(report)\n"
   ],
   "outputs": [
    {
     "name": "stderr",
     "output_type": "stream",
     "text": [
      "Training Progress: 100%|██████████| 100/100 [09:37<00:00,  5.78s/step]\n"
     ]
    },
    {
     "name": "stdout",
     "output_type": "stream",
     "text": [
      "                                                      precision    recall  f1-score   support\n",
      "\n",
      "                               Any Other Cyber Crime       0.48      0.23      0.31      2064\n",
      "Child Pornography CPChild Sexual Abuse Material CSAM       0.71      0.27      0.39        63\n",
      "                                Cryptocurrency Crime       0.67      0.39      0.49       102\n",
      "                      Cyber Attack/ Dependent Crimes       1.00      1.00      1.00       715\n",
      "                                     Cyber Terrorism       0.00      0.00      0.00        33\n",
      "      Hacking  Damage to computercomputer system etc       0.49      0.33      0.40       349\n",
      "                            Online Cyber Trafficking       0.00      0.00      0.00        29\n",
      "                              Online Financial Fraud       0.80      0.95      0.87     10497\n",
      "                            Online Gambling  Betting       0.50      0.05      0.09        85\n",
      "               Online and Social Media Related Crime       0.57      0.60      0.58      2339\n",
      "                                          Ransomware       0.00      0.00      0.00        13\n",
      "           RapeGang Rape RGRSexually Abusive Content       0.99      0.94      0.97       565\n",
      "                               Sexually Explicit Act       0.35      0.05      0.09       323\n",
      "                           Sexually Obscene material       0.30      0.08      0.13       345\n",
      "\n",
      "                                            accuracy                           0.76     17522\n",
      "                                           macro avg       0.49      0.35      0.38     17522\n",
      "                                        weighted avg       0.72      0.76      0.72     17522\n",
      "\n"
     ]
    }
   ],
   "execution_count": 1
  },
  {
   "metadata": {},
   "cell_type": "code",
   "outputs": [],
   "execution_count": null,
   "source": "",
   "id": "6078448f494da70d"
  }
 ],
 "metadata": {
  "kernelspec": {
   "display_name": "Python 3",
   "language": "python",
   "name": "python3"
  },
  "language_info": {
   "codemirror_mode": {
    "name": "ipython",
    "version": 2
   },
   "file_extension": ".py",
   "mimetype": "text/x-python",
   "name": "python",
   "nbconvert_exporter": "python",
   "pygments_lexer": "ipython2",
   "version": "2.7.6"
  }
 },
 "nbformat": 4,
 "nbformat_minor": 5
}
